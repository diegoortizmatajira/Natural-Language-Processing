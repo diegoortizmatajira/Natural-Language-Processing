{
 "cells": [
  {
   "cell_type": "code",
   "execution_count": 2,
   "id": "95c96aaa-3def-4b96-bd66-0c42e3b26f62",
   "metadata": {},
   "outputs": [],
   "source": [
    "import re"
   ]
  },
  {
   "cell_type": "code",
   "execution_count": 3,
   "id": "e1843a19-3825-46d2-9978-c6b734b31d22",
   "metadata": {},
   "outputs": [
    {
     "data": {
      "text/plain": [
       "'Hello guys, this is my 1st #tweet. Check this20 @joy! #nlp #machine #learning'"
      ]
     },
     "execution_count": 3,
     "metadata": {},
     "output_type": "execute_result"
    }
   ],
   "source": [
    "tweet = 'Hello guys, this is my 1st #tweet. Check this20 @joy! #nlp #machine #learning'\n",
    "tweet"
   ]
  },
  {
   "cell_type": "code",
   "execution_count": 4,
   "id": "c98203c8-e9a0-4cbc-9293-56c41b555745",
   "metadata": {},
   "outputs": [
    {
     "data": {
      "text/plain": [
       "<re.Match object; span=(27, 28), match='#'>"
      ]
     },
     "execution_count": 4,
     "metadata": {},
     "output_type": "execute_result"
    }
   ],
   "source": [
    "re.search('#', tweet)"
   ]
  },
  {
   "cell_type": "code",
   "execution_count": 5,
   "id": "4d250ecb-60d6-4e55-8203-fe21fcc60d44",
   "metadata": {},
   "outputs": [
    {
     "name": "stdout",
     "output_type": "stream",
     "text": [
      "None\n"
     ]
    }
   ],
   "source": [
    "print(re.match('#', tweet))"
   ]
  },
  {
   "cell_type": "code",
   "execution_count": 6,
   "id": "f7cb9c26-78c9-4d8b-bc40-4a9152c63366",
   "metadata": {},
   "outputs": [
    {
     "data": {
      "text/plain": [
       "['#', '#', '#', '#']"
      ]
     },
     "execution_count": 6,
     "metadata": {},
     "output_type": "execute_result"
    }
   ],
   "source": [
    "re.findall('#', tweet)"
   ]
  },
  {
   "cell_type": "code",
   "execution_count": 7,
   "id": "a663fc92-4ae5-4f5c-8420-7b9a248731b6",
   "metadata": {},
   "outputs": [
    {
     "data": {
      "text/plain": [
       "'Hello guys, this is my 1st _tweet. Check this20 @joy! _nlp _machine _learning'"
      ]
     },
     "execution_count": 7,
     "metadata": {},
     "output_type": "execute_result"
    }
   ],
   "source": [
    "re.sub('#', '_', tweet)"
   ]
  },
  {
   "cell_type": "code",
   "execution_count": 8,
   "id": "849be7a5-1ec0-4bbc-9fa9-f678e7084d50",
   "metadata": {},
   "outputs": [
    {
     "data": {
      "text/plain": [
       "[' ', ' ', ' ', ' ', ' ', ' ', ' ', ' ', ' ', ' ', ' ', ' ']"
      ]
     },
     "execution_count": 8,
     "metadata": {},
     "output_type": "execute_result"
    }
   ],
   "source": [
    "re.findall('\\s', tweet)"
   ]
  },
  {
   "cell_type": "code",
   "execution_count": 9,
   "id": "b57b1def-9048-4982-9dff-5fbea59a5df8",
   "metadata": {},
   "outputs": [
    {
     "data": {
      "text/plain": [
       "[' ', ' ', ' ', ' ', ' ', ' ', ' ', ' ', ' ', ' ', ' ', ' ']"
      ]
     },
     "execution_count": 9,
     "metadata": {},
     "output_type": "execute_result"
    }
   ],
   "source": [
    "re.findall('\\s+', tweet)"
   ]
  },
  {
   "cell_type": "code",
   "execution_count": 10,
   "id": "a037aa30-5a29-4cd6-95f2-af282dd906f6",
   "metadata": {},
   "outputs": [
    {
     "data": {
      "text/plain": [
       "[' g', ' t', ' i', ' m', ' 1', ' #', ' C', ' t', ' @', ' #', ' #', ' #']"
      ]
     },
     "execution_count": 10,
     "metadata": {},
     "output_type": "execute_result"
    }
   ],
   "source": [
    "re.findall('\\s.', tweet)"
   ]
  },
  {
   "cell_type": "code",
   "execution_count": 11,
   "id": "137c45bf-52fd-472d-b84e-75d2c16154ed",
   "metadata": {},
   "outputs": [
    {
     "data": {
      "text/plain": [
       "[' #', ' #', ' #', ' #']"
      ]
     },
     "execution_count": 11,
     "metadata": {},
     "output_type": "execute_result"
    }
   ],
   "source": [
    "re.findall('\\s#', tweet)"
   ]
  },
  {
   "cell_type": "code",
   "execution_count": 14,
   "id": "56892ac1-cee1-4d3a-8074-61add8234aea",
   "metadata": {},
   "outputs": [
    {
     "data": {
      "text/plain": [
       "'Hello guys, this is my 1st #tweet. #UNSG @ NY Society, @UN @UN_Woman.  Check this tweet'"
      ]
     },
     "execution_count": 14,
     "metadata": {},
     "output_type": "execute_result"
    }
   ],
   "source": [
    "tweet = 'Hello guys, this is my 1st #tweet. #UNSG @ NY Society, @UN @UN_Woman.  Check this tweet'\n",
    "tweet"
   ]
  },
  {
   "cell_type": "code",
   "execution_count": 15,
   "id": "7a9dd451-bf56-4abd-830d-32c8ef6691d4",
   "metadata": {},
   "outputs": [
    {
     "data": {
      "text/plain": [
       "[' #', ' #']"
      ]
     },
     "execution_count": 15,
     "metadata": {},
     "output_type": "execute_result"
    }
   ],
   "source": [
    "re.findall('\\s#', tweet)"
   ]
  },
  {
   "cell_type": "code",
   "execution_count": 16,
   "id": "ca45d38e-79df-4171-b76f-2b96b3f5dec5",
   "metadata": {},
   "outputs": [
    {
     "data": {
      "text/plain": [
       "[]"
      ]
     },
     "execution_count": 16,
     "metadata": {},
     "output_type": "execute_result"
    }
   ],
   "source": [
    "re.findall('\\s##', tweet)"
   ]
  },
  {
   "cell_type": "code",
   "execution_count": 17,
   "id": "ee3af510-dc2b-4baf-89b8-0166d6fc4968",
   "metadata": {},
   "outputs": [
    {
     "data": {
      "text/plain": [
       "[]"
      ]
     },
     "execution_count": 17,
     "metadata": {},
     "output_type": "execute_result"
    }
   ],
   "source": [
    "re.findall('\\s#{2}', tweet)"
   ]
  },
  {
   "cell_type": "code",
   "execution_count": 18,
   "id": "72c9095a-39a2-4764-992d-6cdb00558dda",
   "metadata": {},
   "outputs": [
    {
     "data": {
      "text/plain": [
       "'Helloguys,thisismy1st#tweet.#UNSG@NYSociety,@UN@UN_Woman.Checkthistweet'"
      ]
     },
     "execution_count": 18,
     "metadata": {},
     "output_type": "execute_result"
    }
   ],
   "source": [
    "re.sub('\\s', '', tweet)"
   ]
  },
  {
   "cell_type": "code",
   "execution_count": 20,
   "id": "42a4a2d0-59ea-41e7-a524-69e06bacabdc",
   "metadata": {},
   "outputs": [
    {
     "data": {
      "text/plain": [
       "'Hello_guys,_this_is_my_1st_#tweet._#UNSG_@_NY_Society,_@UN_@UN_Woman.__Check_this_tweet'"
      ]
     },
     "execution_count": 20,
     "metadata": {},
     "output_type": "execute_result"
    }
   ],
   "source": [
    "re.sub('\\s', '_', tweet)"
   ]
  },
  {
   "cell_type": "code",
   "execution_count": 21,
   "id": "c3541550-f3d9-4c80-9d15-aa1c8f966180",
   "metadata": {},
   "outputs": [
    {
     "data": {
      "text/plain": [
       "'Hello_guys,_this_is_my_1st_#tweet._#UNSG_@_NY_Society,_@UN_@UN_Woman._Check_this_tweet'"
      ]
     },
     "execution_count": 21,
     "metadata": {},
     "output_type": "execute_result"
    }
   ],
   "source": [
    "re.sub('\\s+', '_', tweet)"
   ]
  },
  {
   "cell_type": "code",
   "execution_count": 22,
   "id": "eba88471-21da-45d0-8aae-18485976aab6",
   "metadata": {},
   "outputs": [
    {
     "data": {
      "text/plain": [
       "['H',\n",
       " 'e',\n",
       " 'l',\n",
       " 'l',\n",
       " 'o',\n",
       " 'g',\n",
       " 'u',\n",
       " 'y',\n",
       " 's',\n",
       " 't',\n",
       " 'h',\n",
       " 'i',\n",
       " 's',\n",
       " 'i',\n",
       " 's',\n",
       " 'm',\n",
       " 'y',\n",
       " '1',\n",
       " 's',\n",
       " 't',\n",
       " 't',\n",
       " 'w',\n",
       " 'e',\n",
       " 'e',\n",
       " 't',\n",
       " 'U',\n",
       " 'N',\n",
       " 'S',\n",
       " 'G',\n",
       " 'N',\n",
       " 'Y',\n",
       " 'S',\n",
       " 'o',\n",
       " 'c',\n",
       " 'i',\n",
       " 'e',\n",
       " 't',\n",
       " 'y',\n",
       " 'U',\n",
       " 'N',\n",
       " 'U',\n",
       " 'N',\n",
       " '_',\n",
       " 'W',\n",
       " 'o',\n",
       " 'm',\n",
       " 'a',\n",
       " 'n',\n",
       " 'C',\n",
       " 'h',\n",
       " 'e',\n",
       " 'c',\n",
       " 'k',\n",
       " 't',\n",
       " 'h',\n",
       " 'i',\n",
       " 's',\n",
       " 't',\n",
       " 'w',\n",
       " 'e',\n",
       " 'e',\n",
       " 't']"
      ]
     },
     "execution_count": 22,
     "metadata": {},
     "output_type": "execute_result"
    }
   ],
   "source": [
    "re.findall('\\w', tweet)"
   ]
  },
  {
   "cell_type": "code",
   "execution_count": 23,
   "id": "8a66b8dd-e21f-4c28-9763-c88bcb88220d",
   "metadata": {},
   "outputs": [
    {
     "data": {
      "text/plain": [
       "['Hello',\n",
       " 'guys',\n",
       " 'this',\n",
       " 'is',\n",
       " 'my',\n",
       " '1st',\n",
       " 'tweet',\n",
       " 'UNSG',\n",
       " 'NY',\n",
       " 'Society',\n",
       " 'UN',\n",
       " 'UN_Woman',\n",
       " 'Check',\n",
       " 'this',\n",
       " 'tweet']"
      ]
     },
     "execution_count": 23,
     "metadata": {},
     "output_type": "execute_result"
    }
   ],
   "source": [
    "re.findall('\\w+', tweet)"
   ]
  },
  {
   "cell_type": "code",
   "execution_count": 24,
   "id": "daa117eb-ad8b-4fcd-9e1a-d03eeac4f9cb",
   "metadata": {},
   "outputs": [
    {
     "data": {
      "text/plain": [
       "['@', '@', '@']"
      ]
     },
     "execution_count": 24,
     "metadata": {},
     "output_type": "execute_result"
    }
   ],
   "source": [
    "re.findall('\\@', tweet)"
   ]
  },
  {
   "cell_type": "code",
   "execution_count": 25,
   "id": "4366c882-e5bf-47ad-99fd-f53987790b1e",
   "metadata": {},
   "outputs": [
    {
     "data": {
      "text/plain": [
       "['@U', '@U']"
      ]
     },
     "execution_count": 25,
     "metadata": {},
     "output_type": "execute_result"
    }
   ],
   "source": [
    "re.findall('\\@[A-Z]', tweet)"
   ]
  },
  {
   "cell_type": "code",
   "execution_count": 26,
   "id": "8e6a3714-6772-4c11-8d24-e707d7bb8c11",
   "metadata": {},
   "outputs": [
    {
     "data": {
      "text/plain": [
       "['@UN', '@UN']"
      ]
     },
     "execution_count": 26,
     "metadata": {},
     "output_type": "execute_result"
    }
   ],
   "source": [
    "re.findall('\\@[A-Z][A-Z]', tweet)"
   ]
  },
  {
   "cell_type": "code",
   "execution_count": 27,
   "id": "5009e12c-2f43-4e73-b87a-666cda7d1fd5",
   "metadata": {},
   "outputs": [
    {
     "data": {
      "text/plain": [
       "['@U', '@U']"
      ]
     },
     "execution_count": 27,
     "metadata": {},
     "output_type": "execute_result"
    }
   ],
   "source": [
    "re.findall('\\@[A-Za-z]', tweet)"
   ]
  },
  {
   "cell_type": "code",
   "execution_count": 28,
   "id": "0d5ad55e-e151-4f60-9de1-aac4dfa44ecb",
   "metadata": {},
   "outputs": [
    {
     "data": {
      "text/plain": [
       "['@UN', '@UN']"
      ]
     },
     "execution_count": 28,
     "metadata": {},
     "output_type": "execute_result"
    }
   ],
   "source": [
    "re.findall('\\@[A-Za-z]+', tweet)"
   ]
  },
  {
   "cell_type": "code",
   "execution_count": 29,
   "id": "baa304c2-1084-4634-9afb-f65b843888cc",
   "metadata": {},
   "outputs": [
    {
     "data": {
      "text/plain": [
       "['@UN', '@UN_Woman']"
      ]
     },
     "execution_count": 29,
     "metadata": {},
     "output_type": "execute_result"
    }
   ],
   "source": [
    "re.findall('\\@[A-Za-z_]+', tweet)"
   ]
  },
  {
   "cell_type": "code",
   "execution_count": 32,
   "id": "a98c61f0-6936-4823-a117-3710c2b412c8",
   "metadata": {},
   "outputs": [
    {
     "data": {
      "text/plain": [
       "['Hello',\n",
       " 'guys,',\n",
       " 'this',\n",
       " 'is',\n",
       " 'my',\n",
       " '1st',\n",
       " '#tweet.',\n",
       " '#UNSG',\n",
       " '@',\n",
       " 'NY',\n",
       " 'Society,',\n",
       " '@UN',\n",
       " '@UN_Woman.',\n",
       " 'Check',\n",
       " 'this',\n",
       " 'tweet']"
      ]
     },
     "execution_count": 32,
     "metadata": {},
     "output_type": "execute_result"
    }
   ],
   "source": [
    "tokens = tweet.split()\n",
    "tokens"
   ]
  },
  {
   "cell_type": "code",
   "execution_count": 31,
   "id": "0c0ff658-ee80-4855-9997-0760819ca16b",
   "metadata": {},
   "outputs": [
    {
     "data": {
      "text/plain": [
       "['@UN', '@UN_Woman.']"
      ]
     },
     "execution_count": 31,
     "metadata": {},
     "output_type": "execute_result"
    }
   ],
   "source": [
    "[w for w in tokens if re.search('@[a-zA-Z]+', w)]"
   ]
  },
  {
   "cell_type": "code",
   "execution_count": 33,
   "id": "edf6a417-23e7-4ab6-80e0-dc78aec45457",
   "metadata": {},
   "outputs": [],
   "source": [
    "# ======================="
   ]
  },
  {
   "cell_type": "code",
   "execution_count": 34,
   "id": "6c484059-c427-4938-98ee-059bc9588fae",
   "metadata": {},
   "outputs": [
    {
     "data": {
      "text/plain": [
       "'hello 12. hi 89. Howdy 34. we77are here 555'"
      ]
     },
     "execution_count": 34,
     "metadata": {},
     "output_type": "execute_result"
    }
   ],
   "source": [
    "text = 'hello 12. hi 89. Howdy 34. we77are here 555'\n",
    "text"
   ]
  },
  {
   "cell_type": "code",
   "execution_count": 35,
   "id": "1efa6fd9-5d2d-4455-80a3-14e761956c13",
   "metadata": {},
   "outputs": [],
   "source": [
    "pattern = '\\d'"
   ]
  },
  {
   "cell_type": "code",
   "execution_count": 36,
   "id": "1bafaaa8-9af2-4156-9898-93d734ad3be3",
   "metadata": {},
   "outputs": [
    {
     "data": {
      "text/plain": [
       "['1', '2', '8', '9', '3', '4', '7', '7', '5', '5', '5']"
      ]
     },
     "execution_count": 36,
     "metadata": {},
     "output_type": "execute_result"
    }
   ],
   "source": [
    "re.findall(pattern, text)"
   ]
  },
  {
   "cell_type": "code",
   "execution_count": 37,
   "id": "9f0cbefd-6669-4d87-b31c-fe64659166cd",
   "metadata": {},
   "outputs": [
    {
     "data": {
      "text/plain": [
       "['1', '2', '8', '9', '3', '4', '7', '7', '5', '5', '5']"
      ]
     },
     "execution_count": 37,
     "metadata": {},
     "output_type": "execute_result"
    }
   ],
   "source": [
    "re.findall('[0-9]', text)"
   ]
  },
  {
   "cell_type": "code",
   "execution_count": 38,
   "id": "75d24493-f070-4f6c-81c4-cc9767f3cc27",
   "metadata": {},
   "outputs": [
    {
     "data": {
      "text/plain": [
       "['12', '89', '34', '77', '55']"
      ]
     },
     "execution_count": 38,
     "metadata": {},
     "output_type": "execute_result"
    }
   ],
   "source": [
    "re.findall('\\d\\d', text)"
   ]
  },
  {
   "cell_type": "code",
   "execution_count": 39,
   "id": "b2bd2daa-f6dc-4f37-95a7-dfb87311ef62",
   "metadata": {},
   "outputs": [
    {
     "data": {
      "text/plain": [
       "['12', '89', '34', '77', '55']"
      ]
     },
     "execution_count": 39,
     "metadata": {},
     "output_type": "execute_result"
    }
   ],
   "source": [
    "re.findall('\\d{2}', text)"
   ]
  },
  {
   "cell_type": "code",
   "execution_count": 40,
   "id": "429b417c-186d-42b6-9cba-188f64e31315",
   "metadata": {},
   "outputs": [
    {
     "data": {
      "text/plain": [
       "['12', '89', '34', '77', '55']"
      ]
     },
     "execution_count": 40,
     "metadata": {},
     "output_type": "execute_result"
    }
   ],
   "source": [
    "re.findall('\\d[0-9]', text)"
   ]
  },
  {
   "cell_type": "code",
   "execution_count": 41,
   "id": "82e12370-7401-4894-84b2-1393ed8b08d0",
   "metadata": {},
   "outputs": [
    {
     "data": {
      "text/plain": [
       "['12', '89', '34', '77', '555']"
      ]
     },
     "execution_count": 41,
     "metadata": {},
     "output_type": "execute_result"
    }
   ],
   "source": [
    "re.findall('\\d+', text)"
   ]
  },
  {
   "cell_type": "code",
   "execution_count": 42,
   "id": "e66be93f-3778-4cc5-bd8c-c2b605f42cd2",
   "metadata": {},
   "outputs": [
    {
     "data": {
      "text/plain": [
       "['12', '89', '34', '77', '555']"
      ]
     },
     "execution_count": 42,
     "metadata": {},
     "output_type": "execute_result"
    }
   ],
   "source": [
    "re.findall('[0-9]+', text)"
   ]
  },
  {
   "cell_type": "code",
   "execution_count": 44,
   "id": "ba6cc22e-5fcd-4c28-b44f-3fca644f39c0",
   "metadata": {},
   "outputs": [
    {
     "data": {
      "text/plain": [
       "\"Monday: The doctor's appointment is at 2:45 pm. Tuesday: The dentist's appointment\""
      ]
     },
     "execution_count": 44,
     "metadata": {},
     "output_type": "execute_result"
    }
   ],
   "source": [
    "time = \"Monday: The doctor's appointment is at 2:45 pm. Tuesday: The dentist's appointment\"\n",
    "time"
   ]
  },
  {
   "cell_type": "code",
   "execution_count": 45,
   "id": "1ed02f23-3445-43c8-9317-9c0480888cdb",
   "metadata": {},
   "outputs": [
    {
     "data": {
      "text/plain": [
       "['2', '4', '5']"
      ]
     },
     "execution_count": 45,
     "metadata": {},
     "output_type": "execute_result"
    }
   ],
   "source": [
    "re.findall('\\d', time)"
   ]
  },
  {
   "cell_type": "code",
   "execution_count": 46,
   "id": "2317e857-6c09-4887-83a4-b71baa4725f4",
   "metadata": {},
   "outputs": [
    {
     "data": {
      "text/plain": [
       "['2', '45']"
      ]
     },
     "execution_count": 46,
     "metadata": {},
     "output_type": "execute_result"
    }
   ],
   "source": [
    "re.findall('\\d+', time)"
   ]
  },
  {
   "cell_type": "code",
   "execution_count": 47,
   "id": "2c78ae4a-8fed-4e81-8d33-ddc6dc5741c1",
   "metadata": {},
   "outputs": [
    {
     "data": {
      "text/plain": [
       "['45']"
      ]
     },
     "execution_count": 47,
     "metadata": {},
     "output_type": "execute_result"
    }
   ],
   "source": [
    "re.findall('(\\d\\d)', time)"
   ]
  },
  {
   "cell_type": "code",
   "execution_count": 48,
   "id": "bfa5a8a4-1a75-43c5-92d7-8c20be4e018c",
   "metadata": {},
   "outputs": [
    {
     "data": {
      "text/plain": [
       "[]"
      ]
     },
     "execution_count": 48,
     "metadata": {},
     "output_type": "execute_result"
    }
   ],
   "source": [
    "re.findall('(\\d\\d):(\\d\\d)', time)"
   ]
  },
  {
   "cell_type": "code",
   "execution_count": 49,
   "id": "76e4928f-8b8f-41c5-b5ea-1a09bac595a1",
   "metadata": {},
   "outputs": [
    {
     "data": {
      "text/plain": [
       "[('2', '45')]"
      ]
     },
     "execution_count": 49,
     "metadata": {},
     "output_type": "execute_result"
    }
   ],
   "source": [
    "re.findall('(\\d+):(\\d\\d)', time)"
   ]
  },
  {
   "cell_type": "code",
   "execution_count": 50,
   "id": "c5265a7f-3098-4fab-b06d-33a8df87bde7",
   "metadata": {},
   "outputs": [
    {
     "data": {
      "text/plain": [
       "[('2', '45')]"
      ]
     },
     "execution_count": 50,
     "metadata": {},
     "output_type": "execute_result"
    }
   ],
   "source": [
    "re.findall('(\\d?\\d):(\\d\\d)', time)"
   ]
  },
  {
   "cell_type": "code",
   "execution_count": 51,
   "id": "d948ca82-6b24-456d-91be-8a18cf0b7b03",
   "metadata": {},
   "outputs": [
    {
     "data": {
      "text/plain": [
       "[('2', '45')]"
      ]
     },
     "execution_count": 51,
     "metadata": {},
     "output_type": "execute_result"
    }
   ],
   "source": [
    "re.findall('(\\d?\\d):(\\d?\\d)', time)"
   ]
  },
  {
   "cell_type": "code",
   "execution_count": 52,
   "id": "e214f802-b324-4bdc-8c25-4081c78ff976",
   "metadata": {},
   "outputs": [],
   "source": [
    "# ==============="
   ]
  },
  {
   "cell_type": "code",
   "execution_count": 54,
   "id": "5b3e00b9-7f0a-4347-b86d-eaab0c251d85",
   "metadata": {},
   "outputs": [
    {
     "data": {
      "text/plain": [
       "'The rain in Spain'"
      ]
     },
     "execution_count": 54,
     "metadata": {},
     "output_type": "execute_result"
    }
   ],
   "source": [
    "text = \"The rain in Spain\"\n",
    "text"
   ]
  },
  {
   "cell_type": "code",
   "execution_count": 55,
   "id": "d47b2b08-1a31-4d98-ba21-265b33d0b377",
   "metadata": {},
   "outputs": [
    {
     "data": {
      "text/plain": [
       "<re.Match object; span=(0, 3), match='The'>"
      ]
     },
     "execution_count": 55,
     "metadata": {},
     "output_type": "execute_result"
    }
   ],
   "source": [
    "re.search('^The', text)"
   ]
  },
  {
   "cell_type": "code",
   "execution_count": 56,
   "id": "78fa3507-7cd7-446c-bd2c-37a035ae20b6",
   "metadata": {},
   "outputs": [
    {
     "data": {
      "text/plain": [
       "['The']"
      ]
     },
     "execution_count": 56,
     "metadata": {},
     "output_type": "execute_result"
    }
   ],
   "source": [
    "re.findall('^The', text)"
   ]
  },
  {
   "cell_type": "code",
   "execution_count": 57,
   "id": "1336df90-f481-47bb-8e37-deb3a37737c4",
   "metadata": {},
   "outputs": [
    {
     "data": {
      "text/plain": [
       "['Spain']"
      ]
     },
     "execution_count": 57,
     "metadata": {},
     "output_type": "execute_result"
    }
   ],
   "source": [
    "re.findall('Spain$', text)"
   ]
  },
  {
   "cell_type": "code",
   "execution_count": 58,
   "id": "e1cabbcd-67ac-4613-9441-57c2ba3db549",
   "metadata": {},
   "outputs": [
    {
     "data": {
      "text/plain": [
       "['The rain in Spain']"
      ]
     },
     "execution_count": 58,
     "metadata": {},
     "output_type": "execute_result"
    }
   ],
   "source": [
    "re.findall('^The.*Spain$', text)"
   ]
  },
  {
   "cell_type": "code",
   "execution_count": 59,
   "id": "aaae43a5-2b35-448d-ac1c-559abd537458",
   "metadata": {},
   "outputs": [],
   "source": [
    "def match_finder(pattern, text):\n",
    "    result = re.search(pattern, text)\n",
    "    \n",
    "    if result:\n",
    "        print(\"YES! We have a match.\")\n",
    "    else:\n",
    "        print(\"No match.\")\n",
    "    "
   ]
  },
  {
   "cell_type": "code",
   "execution_count": 61,
   "id": "43f9baaf-b406-49ac-9e3e-e1f035a3498c",
   "metadata": {},
   "outputs": [
    {
     "name": "stdout",
     "output_type": "stream",
     "text": [
      "YES! We have a match.\n"
     ]
    }
   ],
   "source": [
    "pattern = '^The.*Spain$'\n",
    "text = \"The rain in Spain\"\n",
    "match_finder(pattern, text)"
   ]
  },
  {
   "cell_type": "code",
   "execution_count": null,
   "id": "e2618bd9-fc40-47b7-bc80-ca4f9ede3a93",
   "metadata": {},
   "outputs": [],
   "source": []
  }
 ],
 "metadata": {
  "kernelspec": {
   "display_name": "Python 3",
   "language": "python",
   "name": "python3"
  },
  "language_info": {
   "codemirror_mode": {
    "name": "ipython",
    "version": 3
   },
   "file_extension": ".py",
   "mimetype": "text/x-python",
   "name": "python",
   "nbconvert_exporter": "python",
   "pygments_lexer": "ipython3",
   "version": "3.8.10"
  }
 },
 "nbformat": 4,
 "nbformat_minor": 5
}
