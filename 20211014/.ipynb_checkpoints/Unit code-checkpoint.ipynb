{
 "cells": [
  {
   "cell_type": "code",
   "execution_count": 1,
   "id": "45940b5f-4206-4b94-9f25-65eb7fb15ad1",
   "metadata": {},
   "outputs": [
    {
     "name": "stdout",
     "output_type": "stream",
     "text": [
      "Requirement already satisfied: textblob in c:\\tools\\anaconda3\\envs\\lambton\\lib\\site-packages (0.15.3)Note: you may need to restart the kernel to use updated packages.\n",
      "\n",
      "Requirement already satisfied: nltk>=3.1 in c:\\tools\\anaconda3\\envs\\lambton\\lib\\site-packages (from textblob) (3.6.2)\n",
      "Requirement already satisfied: regex in c:\\tools\\anaconda3\\envs\\lambton\\lib\\site-packages (from nltk>=3.1->textblob) (2021.4.4)\n",
      "Requirement already satisfied: joblib in c:\\tools\\anaconda3\\envs\\lambton\\lib\\site-packages (from nltk>=3.1->textblob) (1.0.1)\n",
      "Requirement already satisfied: click in c:\\tools\\anaconda3\\envs\\lambton\\lib\\site-packages (from nltk>=3.1->textblob) (7.1.2)\n",
      "Requirement already satisfied: tqdm in c:\\tools\\anaconda3\\envs\\lambton\\lib\\site-packages (from nltk>=3.1->textblob) (4.61.0)\n"
     ]
    }
   ],
   "source": [
    "pip install textblob"
   ]
  },
  {
   "cell_type": "code",
   "execution_count": 1,
   "id": "401ae137-5abe-4265-98f0-3628d5651a9e",
   "metadata": {},
   "outputs": [],
   "source": [
    "from textblob import TextBlob"
   ]
  },
  {
   "cell_type": "code",
   "execution_count": 3,
   "id": "e9a7dac2-904b-4434-ae11-48a51528b88f",
   "metadata": {},
   "outputs": [],
   "source": [
    "text = \"This is a text\""
   ]
  },
  {
   "cell_type": "code",
   "execution_count": 4,
   "id": "c10ab42f-3e9c-4552-8333-a8ae2d42ae62",
   "metadata": {},
   "outputs": [
    {
     "data": {
      "text/plain": [
       "[('This', 'DT'), ('is', 'VBZ'), ('a', 'DT'), ('text', 'NN')]"
      ]
     },
     "execution_count": 4,
     "metadata": {},
     "output_type": "execute_result"
    }
   ],
   "source": [
    "output = TextBlob(text)\n",
    "output.tags"
   ]
  },
  {
   "cell_type": "markdown",
   "id": "9be232c6-5e10-45b3-9692-13d9bd5cba3f",
   "metadata": {},
   "source": [
    "# Named Entity Recognition"
   ]
  },
  {
   "cell_type": "code",
   "execution_count": 1,
   "id": "92d528b2-4612-4652-b796-e178a64cacee",
   "metadata": {},
   "outputs": [],
   "source": [
    "from nltk import ne_chunk, pos_tag, word_tokenize"
   ]
  },
  {
   "cell_type": "code",
   "execution_count": 2,
   "id": "d5b0d317-e3dc-4393-9047-f49e21ca91ea",
   "metadata": {},
   "outputs": [
    {
     "data": {
      "text/plain": [
       "'Bill works fro Microsoft, so he went to Boston for a conference.'"
      ]
     },
     "execution_count": 2,
     "metadata": {},
     "output_type": "execute_result"
    }
   ],
   "source": [
    "input_str = \"Bill works fro Microsoft, so he went to Boston for a conference.\"\n",
    "input_str"
   ]
  },
  {
   "cell_type": "code",
   "execution_count": 3,
   "id": "7d0b3082-f711-4dad-a70f-0a9a311e9b90",
   "metadata": {},
   "outputs": [
    {
     "data": {
      "text/plain": [
       "['Bill',\n",
       " 'works',\n",
       " 'fro',\n",
       " 'Microsoft',\n",
       " ',',\n",
       " 'so',\n",
       " 'he',\n",
       " 'went',\n",
       " 'to',\n",
       " 'Boston',\n",
       " 'for',\n",
       " 'a',\n",
       " 'conference',\n",
       " '.']"
      ]
     },
     "execution_count": 3,
     "metadata": {},
     "output_type": "execute_result"
    }
   ],
   "source": [
    "tokens = word_tokenize(input_str)\n",
    "tokens"
   ]
  },
  {
   "cell_type": "code",
   "execution_count": 4,
   "id": "431037d0-077e-48fd-90f9-c37d7ef48748",
   "metadata": {},
   "outputs": [
    {
     "data": {
      "text/plain": [
       "[('Bill', 'NNP'),\n",
       " ('works', 'VBZ'),\n",
       " ('fro', 'JJ'),\n",
       " ('Microsoft', 'NNP'),\n",
       " (',', ','),\n",
       " ('so', 'IN'),\n",
       " ('he', 'PRP'),\n",
       " ('went', 'VBD'),\n",
       " ('to', 'TO'),\n",
       " ('Boston', 'NNP'),\n",
       " ('for', 'IN'),\n",
       " ('a', 'DT'),\n",
       " ('conference', 'NN'),\n",
       " ('.', '.')]"
      ]
     },
     "execution_count": 4,
     "metadata": {},
     "output_type": "execute_result"
    }
   ],
   "source": [
    "token_pos = pos_tag(tokens)\n",
    "token_pos"
   ]
  },
  {
   "cell_type": "code",
   "execution_count": 5,
   "id": "e9c96915-fcdf-429f-9d0b-52bd7ca18811",
   "metadata": {},
   "outputs": [
    {
     "name": "stdout",
     "output_type": "stream",
     "text": [
      "(S\n",
      "  (PERSON Bill/NNP)\n",
      "  works/VBZ\n",
      "  fro/JJ\n",
      "  (ORGANIZATION Microsoft/NNP)\n",
      "  ,/,\n",
      "  so/IN\n",
      "  he/PRP\n",
      "  went/VBD\n",
      "  to/TO\n",
      "  (GPE Boston/NNP)\n",
      "  for/IN\n",
      "  a/DT\n",
      "  conference/NN\n",
      "  ./.)\n"
     ]
    }
   ],
   "source": [
    "print(ne_chunk(token_pos))"
   ]
  },
  {
   "cell_type": "code",
   "execution_count": 7,
   "id": "e238288c-3e0a-441f-8a62-f17d18451e4c",
   "metadata": {},
   "outputs": [
    {
     "data": {
      "image/png": "[encoded data removed]",
      "text/plain": [
       "Tree('S', [Tree('PERSON', [('Bill', 'NNP')]), ('works', 'VBZ'), ('fro', 'JJ'), Tree('ORGANIZATION', [('Microsoft', 'NNP')]), (',', ','), ('so', 'IN'), ('he', 'PRP'), ('went', 'VBD'), ('to', 'TO'), Tree('GPE', [('Boston', 'NNP')]), ('for', 'IN'), ('a', 'DT'), ('conference', 'NN'), ('.', '.')])"
      ]
     },
     "execution_count": 7,
     "metadata": {},
     "output_type": "execute_result"
    }
   ],
   "source": [
    "ne_chunk(token_pos)"
   ]
  },
  {
   "cell_type": "markdown",
   "id": "a411938a-520d-47b5-a43c-6b8c211d4984",
   "metadata": {},
   "source": [
    "# Collocation"
   ]
  },
  {
   "cell_type": "code",
   "execution_count": 9,
   "id": "fa911e62-67df-4634-bc47-4efde0605301",
   "metadata": {},
   "outputs": [],
   "source": [
    "from nltk.collocations import BigramAssocMeasures, TrigramAssocMeasures, BigramCollocationFinder, TrigramCollocationFinder"
   ]
  },
  {
   "cell_type": "code",
   "execution_count": 15,
   "id": "155af414-d901-4228-a21a-34b87703a93e",
   "metadata": {},
   "outputs": [],
   "source": [
    "bigram_measure = BigramAssocMeasures()\n",
    "trigram_measure = TrigramAssocMeasures()"
   ]
  },
  {
   "cell_type": "code",
   "execution_count": 16,
   "id": "b1fd6e9a-6a97-445c-a859-d348cb17ec73",
   "metadata": {},
   "outputs": [
    {
     "data": {
      "text/plain": [
       "'I put the key on the line. United States is on the south. United States has more population than we have'"
      ]
     },
     "execution_count": 16,
     "metadata": {},
     "output_type": "execute_result"
    }
   ],
   "source": [
    "text = \"I put the key on the line. United States is on the south. United States has more population than we have\"\n",
    "text"
   ]
  },
  {
   "cell_type": "code",
   "execution_count": 17,
   "id": "5b6b1eaf-b82f-4d0c-9e29-45e4dce315f7",
   "metadata": {},
   "outputs": [],
   "source": [
    "finder = BigramCollocationFinder.from_words(word_tokenize(text))"
   ]
  },
  {
   "cell_type": "code",
   "execution_count": 18,
   "id": "84d7e696-d70f-4fb5-af44-7131294950cf",
   "metadata": {},
   "outputs": [
    {
     "data": {
      "text/plain": [
       "[('I', 'put'), ('has', 'more')]"
      ]
     },
     "execution_count": 18,
     "metadata": {},
     "output_type": "execute_result"
    }
   ],
   "source": [
    "finder.nbest(bigram_measure.pmi, 2)"
   ]
  },
  {
   "cell_type": "code",
   "execution_count": 20,
   "id": "27269873-c25a-485f-a3ad-51b9d4a25ddf",
   "metadata": {},
   "outputs": [],
   "source": [
    "import nltk\n",
    "myText = nltk.corpus.genesis.words('english-web.txt')"
   ]
  },
  {
   "cell_type": "code",
   "execution_count": 23,
   "id": "cfc79248-9d4d-4b6d-abef-243ee95a4f41",
   "metadata": {},
   "outputs": [
    {
     "data": {
      "text/plain": [
       "[('Allon', 'Bacuth'),\n",
       " ('Ashteroth', 'Karnaim'),\n",
       " ('Ben', 'Ammi'),\n",
       " ('En', 'Mishpat'),\n",
       " ('Jegar', 'Sahadutha'),\n",
       " ('Salt', 'Sea'),\n",
       " ('Whoever', 'sheds'),\n",
       " ('appoint', 'overseers'),\n",
       " ('aromatic', 'resin'),\n",
       " ('cutting', 'instrument')]"
      ]
     },
     "execution_count": 23,
     "metadata": {},
     "output_type": "execute_result"
    }
   ],
   "source": [
    "finder = BigramCollocationFinder.from_words(myText)\n",
    "finder.nbest(bigram_measure.pmi, 10)"
   ]
  },
  {
   "cell_type": "code",
   "execution_count": 24,
   "id": "9165553a-1076-4e53-be46-6981f8fe5794",
   "metadata": {},
   "outputs": [
    {
     "data": {
      "text/plain": [
       "[('olive', 'leaf', 'plucked'),\n",
       " ('rider', 'falls', 'backward'),\n",
       " ('sewed', 'fig', 'leaves'),\n",
       " ('yield', 'royal', 'dainties'),\n",
       " ('during', 'mating', 'season'),\n",
       " ('Salt', 'Sea', ').'),\n",
       " ('Sea', ').', 'Twelve'),\n",
       " ('Their', 'hearts', 'failed'),\n",
       " ('Valley', ').', 'Melchizedek'),\n",
       " ('doing', 'forced', 'labor')]"
      ]
     },
     "execution_count": 24,
     "metadata": {},
     "output_type": "execute_result"
    }
   ],
   "source": [
    "finder = TrigramCollocationFinder.from_words(myText)\n",
    "finder.nbest(trigram_measure.pmi, 10)"
   ]
  },
  {
   "cell_type": "markdown",
   "id": "c2b133e8-2c1d-4dcd-aa39-5e3fcfe948ab",
   "metadata": {},
   "source": [
    "# Synonyms and antonyms"
   ]
  },
  {
   "cell_type": "code",
   "execution_count": 26,
   "id": "623beb57-20cb-4a9e-8775-88bd5198ee04",
   "metadata": {},
   "outputs": [],
   "source": [
    "from nltk.corpus import wordnet"
   ]
  },
  {
   "cell_type": "code",
   "execution_count": 27,
   "id": "cf7625ec-0a25-4181-8785-8e76e9b01e76",
   "metadata": {},
   "outputs": [
    {
     "data": {
      "text/plain": [
       "[Synset('cat.n.01'),\n",
       " Synset('guy.n.01'),\n",
       " Synset('cat.n.03'),\n",
       " Synset('kat.n.01'),\n",
       " Synset('cat-o'-nine-tails.n.01'),\n",
       " Synset('caterpillar.n.02'),\n",
       " Synset('big_cat.n.01'),\n",
       " Synset('computerized_tomography.n.01'),\n",
       " Synset('cat.v.01'),\n",
       " Synset('vomit.v.01')]"
      ]
     },
     "execution_count": 27,
     "metadata": {},
     "output_type": "execute_result"
    }
   ],
   "source": [
    "wordnet.synsets('cat')"
   ]
  },
  {
   "cell_type": "code",
   "execution_count": 28,
   "id": "582405df-5adc-46b3-9a30-e24742adac9d",
   "metadata": {},
   "outputs": [
    {
     "data": {
      "text/plain": [
       "[Synset('active_agent.n.01'),\n",
       " Synset('active_voice.n.01'),\n",
       " Synset('active.n.03'),\n",
       " Synset('active.a.01'),\n",
       " Synset('active.s.02'),\n",
       " Synset('active.a.03'),\n",
       " Synset('active.s.04'),\n",
       " Synset('active.a.05'),\n",
       " Synset('active.a.06'),\n",
       " Synset('active.a.07'),\n",
       " Synset('active.s.08'),\n",
       " Synset('active.a.09'),\n",
       " Synset('active.a.10'),\n",
       " Synset('active.a.11'),\n",
       " Synset('active.a.12'),\n",
       " Synset('active.a.13'),\n",
       " Synset('active.a.14')]"
      ]
     },
     "execution_count": 28,
     "metadata": {},
     "output_type": "execute_result"
    }
   ],
   "source": [
    "result = wordnet.synsets('active')\n",
    "result"
   ]
  },
  {
   "cell_type": "code",
   "execution_count": 29,
   "id": "0c516b10-6937-472d-a0ec-442010c97afe",
   "metadata": {},
   "outputs": [
    {
     "data": {
      "text/plain": [
       "'active_voice'"
      ]
     },
     "execution_count": 29,
     "metadata": {},
     "output_type": "execute_result"
    }
   ],
   "source": [
    "result[1].lemmas()[0].name()"
   ]
  },
  {
   "cell_type": "code",
   "execution_count": 31,
   "id": "d9a60eeb-113e-4f6e-a024-c230b0708a59",
   "metadata": {},
   "outputs": [
    {
     "name": "stdout",
     "output_type": "stream",
     "text": [
      "Synonyms:  ['active_agent', 'active', 'active_voice', 'active', 'active', 'active', 'active', 'combat-ready', 'fighting', 'active', 'active', 'participating', 'active', 'active', 'active', 'active', 'alive', 'active', 'active', 'active', 'dynamic', 'active', 'active', 'active']\n",
      "Antonyms:  ['passive_voice', 'inactive', 'passive', 'inactive', 'inactive', 'inactive', 'quiet', 'passive', 'stative', 'extinct', 'dormant', 'inactive']\n"
     ]
    }
   ],
   "source": [
    "synonyms = []\n",
    "antonyms = []\n",
    "for syn in wordnet.synsets('active'):\n",
    "    for l in syn.lemmas():\n",
    "        synonyms.append(l.name())\n",
    "        if l.antonyms():\n",
    "            antonyms.append(l.antonyms()[0].name())\n",
    "print('Synonyms: ', synonyms)\n",
    "print('Antonyms: ', antonyms)"
   ]
  },
  {
   "cell_type": "markdown",
   "id": "b4f94a5d-430a-40a1-aa4a-9b195acdcd61",
   "metadata": {},
   "source": [
    "# Word lengthening"
   ]
  },
  {
   "cell_type": "code",
   "execution_count": 33,
   "id": "10813d50-ffd6-444f-8008-93edcc16e498",
   "metadata": {},
   "outputs": [],
   "source": [
    "import re"
   ]
  },
  {
   "cell_type": "code",
   "execution_count": 34,
   "id": "f65befeb-dbb2-4f0e-bf62-847b86701e0e",
   "metadata": {},
   "outputs": [],
   "source": [
    "text = 'commmmmmmitttttttteeeeeeee'"
   ]
  },
  {
   "cell_type": "code",
   "execution_count": 35,
   "id": "f831f74d-cb00-4ebd-9c7c-39c144e1b295",
   "metadata": {},
   "outputs": [
    {
     "data": {
      "text/plain": [
       "re.compile(r'(.)\\1{2,}', re.UNICODE)"
      ]
     },
     "execution_count": 35,
     "metadata": {},
     "output_type": "execute_result"
    }
   ],
   "source": [
    "pattern = re.compile(r'(.)\\1{2,}')\n",
    "pattern"
   ]
  },
  {
   "cell_type": "code",
   "execution_count": 36,
   "id": "a0adff00-219b-455c-9356-29004cb6805a",
   "metadata": {},
   "outputs": [
    {
     "data": {
      "text/plain": [
       "'mmmmmmm'"
      ]
     },
     "execution_count": 36,
     "metadata": {},
     "output_type": "execute_result"
    }
   ],
   "source": [
    "my_pat = re.search(pattern, text)[0]\n",
    "my_pat"
   ]
  },
  {
   "cell_type": "markdown",
   "id": "64b81d16-a6d0-4bf0-930b-6c0997251f88",
   "metadata": {},
   "source": [
    "# Spell checker"
   ]
  },
  {
   "cell_type": "code",
   "execution_count": 1,
   "id": "3caa8701-924f-4df2-b8dc-e2cf2527781f",
   "metadata": {},
   "outputs": [
    {
     "name": "stdout",
     "output_type": "stream",
     "text": [
      "Requirement already satisfied: pattern in c:\\tools\\anaconda3\\envs\\lambton\\lib\\site-packages (3.6)\n",
      "Requirement already satisfied: numpy in c:\\tools\\anaconda3\\envs\\lambton\\lib\\site-packages (from pattern) (1.19.5)\n",
      "Requirement already satisfied: requests in c:\\tools\\anaconda3\\envs\\lambton\\lib\\site-packages (from pattern) (2.25.1)\n",
      "Requirement already satisfied: feedparser in c:\\tools\\anaconda3\\envs\\lambton\\lib\\site-packages (from pattern) (6.0.8)\n",
      "Requirement already satisfied: lxml in c:\\tools\\anaconda3\\envs\\lambton\\lib\\site-packages (from pattern) (4.6.3)\n",
      "Requirement already satisfied: cherrypy in c:\\tools\\anaconda3\\envs\\lambton\\lib\\site-packages (from pattern) (18.6.1)\n",
      "Requirement already satisfied: backports.csv in c:\\tools\\anaconda3\\envs\\lambton\\lib\\site-packages (from pattern) (1.0.7)\n",
      "Requirement already satisfied: python-docx in c:\\tools\\anaconda3\\envs\\lambton\\lib\\site-packages (from pattern) (0.8.11)\n",
      "Requirement already satisfied: scipy in c:\\tools\\anaconda3\\envs\\lambton\\lib\\site-packages (from pattern) (1.6.2)\n",
      "Requirement already satisfied: mysqlclient in c:\\tools\\anaconda3\\envs\\lambton\\lib\\site-packages (from pattern) (2.0.3)\n",
      "Requirement already satisfied: future in c:\\tools\\anaconda3\\envs\\lambton\\lib\\site-packages (from pattern) (0.18.2)\n",
      "Requirement already satisfied: nltk in c:\\tools\\anaconda3\\envs\\lambton\\lib\\site-packages (from pattern) (3.6.2)\n",
      "Requirement already satisfied: beautifulsoup4 in c:\\tools\\anaconda3\\envs\\lambton\\lib\\site-packages (from pattern) (4.9.3)\n",
      "Requirement already satisfied: pdfminer.six in c:\\tools\\anaconda3\\envs\\lambton\\lib\\site-packages (from pattern) (20211012)\n",
      "Requirement already satisfied: soupsieve>1.2 in c:\\tools\\anaconda3\\envs\\lambton\\lib\\site-packages (from beautifulsoup4->pattern) (2.2.1)\n",
      "Requirement already satisfied: portend>=2.1.1 in c:\\tools\\anaconda3\\envs\\lambton\\lib\\site-packages (from cherrypy->pattern) (3.0.0)\n",
      "Requirement already satisfied: jaraco.collections in c:\\tools\\anaconda3\\envs\\lambton\\lib\\site-packages (from cherrypy->pattern) (3.4.0)\n",
      "Requirement already satisfied: zc.lockfile in c:\\tools\\anaconda3\\envs\\lambton\\lib\\site-packages (from cherrypy->pattern) (2.0)\n",
      "Requirement already satisfied: pywin32>=227 in c:\\tools\\anaconda3\\envs\\lambton\\lib\\site-packages (from cherrypy->pattern) (227)\n",
      "Requirement already satisfied: more-itertools in c:\\tools\\anaconda3\\envs\\lambton\\lib\\site-packages (from cherrypy->pattern) (8.10.0)\n",
      "Requirement already satisfied: cheroot>=8.2.1 in c:\\tools\\anaconda3\\envs\\lambton\\lib\\site-packages (from cherrypy->pattern) (8.5.2)\n",
      "Requirement already satisfied: six>=1.11.0 in c:\\tools\\anaconda3\\envs\\lambton\\lib\\site-packages (from cheroot>=8.2.1->cherrypy->pattern) (1.15.0)\n",
      "Requirement already satisfied: jaraco.functools in c:\\tools\\anaconda3\\envs\\lambton\\lib\\site-packages (from cheroot>=8.2.1->cherrypy->pattern) (3.3.0)\n",
      "Requirement already satisfied: tempora>=1.8 in c:\\tools\\anaconda3\\envs\\lambton\\lib\\site-packages (from portend>=2.1.1->cherrypy->pattern) (4.1.2)\n",
      "Requirement already satisfied: pytz in c:\\tools\\anaconda3\\envs\\lambton\\lib\\site-packages (from tempora>=1.8->portend>=2.1.1->cherrypy->pattern) (2021.1)\n",
      "Requirement already satisfied: sgmllib3k in c:\\tools\\anaconda3\\envs\\lambton\\lib\\site-packages (from feedparser->pattern) (1.0.0)\n",
      "Requirement already satisfied: jaraco.classes in c:\\tools\\anaconda3\\envs\\lambton\\lib\\site-packages (from jaraco.collections->cherrypy->pattern) (3.2.1)\n",
      "Requirement already satisfied: jaraco.text in c:\\tools\\anaconda3\\envs\\lambton\\lib\\site-packages (from jaraco.collections->cherrypy->pattern) (3.5.1)\n",
      "Requirement already satisfied: joblib in c:\\tools\\anaconda3\\envs\\lambton\\lib\\site-packages (from nltk->pattern) (1.0.1)\n",
      "Requirement already satisfied: click in c:\\tools\\anaconda3\\envs\\lambton\\lib\\site-packages (from nltk->pattern) (7.1.2)\n",
      "Requirement already satisfied: regex in c:\\tools\\anaconda3\\envs\\lambton\\lib\\site-packages (from nltk->pattern) (2021.4.4)\n",
      "Requirement already satisfied: tqdm in c:\\tools\\anaconda3\\envs\\lambton\\lib\\site-packages (from nltk->pattern) (4.61.0)\n",
      "Requirement already satisfied: cryptography in c:\\tools\\anaconda3\\envs\\lambton\\lib\\site-packages (from pdfminer.six->pattern) (3.4.7)\n",
      "Requirement already satisfied: chardet in c:\\tools\\anaconda3\\envs\\lambton\\lib\\site-packages (from pdfminer.six->pattern) (4.0.0)\n",
      "Requirement already satisfied: cffi>=1.12 in c:\\tools\\anaconda3\\envs\\lambton\\lib\\site-packages (from cryptography->pdfminer.six->pattern) (1.14.5)\n",
      "Requirement already satisfied: pycparser in c:\\tools\\anaconda3\\envs\\lambton\\lib\\site-packages (from cffi>=1.12->cryptography->pdfminer.six->pattern) (2.20)\n",
      "Requirement already satisfied: idna<3,>=2.5 in c:\\tools\\anaconda3\\envs\\lambton\\lib\\site-packages (from requests->pattern) (2.10)\n",
      "Requirement already satisfied: certifi>=2017.4.17 in c:\\tools\\anaconda3\\envs\\lambton\\lib\\site-packages (from requests->pattern) (2021.10.8)\n",
      "Requirement already satisfied: urllib3<1.27,>=1.21.1 in c:\\tools\\anaconda3\\envs\\lambton\\lib\\site-packages (from requests->pattern) (1.26.4)\n",
      "Requirement already satisfied: setuptools in c:\\tools\\anaconda3\\envs\\lambton\\lib\\site-packages (from zc.lockfile->cherrypy->pattern) (52.0.0.post20210125)\n",
      "Note: you may need to restart the kernel to use updated packages.\n"
     ]
    }
   ],
   "source": [
    "pip install pattern"
   ]
  },
  {
   "cell_type": "code",
   "execution_count": 2,
   "id": "7ecc3221-4fb9-45e3-8abb-31e5443555dc",
   "metadata": {},
   "outputs": [],
   "source": [
    "from pattern.en import suggest"
   ]
  },
  {
   "cell_type": "code",
   "execution_count": 4,
   "id": "10116e6c-fcea-4caf-a0b0-7247da871d0b",
   "metadata": {},
   "outputs": [
    {
     "name": "stdout",
     "output_type": "stream",
     "text": [
      "[('While', 0.6459209419680404), ('White', 0.2968881412952061), ('Title', 0.03280067283431455), ('Whistle', 0.023549201009251473), ('Chile', 0.0008410428931875525)]\n"
     ]
    }
   ],
   "source": [
    "print(suggest('Whitle'))"
   ]
  },
  {
   "cell_type": "code",
   "execution_count": null,
   "id": "11bfe0e7-0864-4f06-a7ff-a04fa4c46e25",
   "metadata": {},
   "outputs": [],
   "source": []
  }
 ],
 "metadata": {
  "kernelspec": {
   "display_name": "Python 3",
   "language": "python",
   "name": "python3"
  },
  "language_info": {
   "codemirror_mode": {
    "name": "ipython",
    "version": 3
   },
   "file_extension": ".py",
   "mimetype": "text/x-python",
   "name": "python",
   "nbconvert_exporter": "python",
   "pygments_lexer": "ipython3",
   "version": "3.8.10"
  }
 },
 "nbformat": 4,
 "nbformat_minor": 5
}
